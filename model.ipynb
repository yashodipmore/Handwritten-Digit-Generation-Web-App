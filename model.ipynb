{
 "cells": [
  {
   "cell_type": "code",
   "execution_count": 4,
   "id": "392147cc-6d37-47a0-ad59-448a89bf7ca0",
   "metadata": {},
   "outputs": [],
   "source": [
    "# Imports\n",
    "import torch\n",
    "import torch.nn as nn\n",
    "import torchvision\n",
    "from torchvision import transforms\n",
    "from torch.utils.data import DataLoader\n",
    "import matplotlib.pyplot as plt\n",
    "import numpy as np\n"
   ]
  },
  {
   "cell_type": "markdown",
   "id": "0a3bbece-09be-4dcf-bb95-9bd78eb1971d",
   "metadata": {},
   "source": [
    "# Load MNIST Dataset"
   ]
  },
  {
   "cell_type": "code",
   "execution_count": 5,
   "id": "300a46cc-d450-4caf-a0d8-4bd7f41f3b6a",
   "metadata": {},
   "outputs": [],
   "source": [
    "\n",
    "transform = transforms.Compose([\n",
    "    transforms.ToTensor(),\n",
    "    transforms.Normalize([0.5], [0.5])\n",
    "])\n",
    "\n",
    "train_data = torchvision.datasets.MNIST(root='./data', train=True, transform=transform, download=True)\n",
    "train_loader = DataLoader(train_data, batch_size=128, shuffle=True)\n"
   ]
  },
  {
   "cell_type": "markdown",
   "id": "b1b9702d-fcaa-4217-b8be-2f047a777c57",
   "metadata": {},
   "source": [
    "# Generator and Discriminator"
   ]
  },
  {
   "cell_type": "code",
   "execution_count": 6,
   "id": "156bdbba-a257-454f-82c8-90726a03b89e",
   "metadata": {},
   "outputs": [],
   "source": [
    "\n",
    "class Generator(nn.Module):\n",
    "    def __init__(self):\n",
    "        super().__init__()\n",
    "        self.fc = nn.Sequential(\n",
    "            nn.Linear(20 + 10, 128),\n",
    "            nn.ReLU(),\n",
    "            nn.Linear(128, 784),\n",
    "            nn.Tanh()\n",
    "        )\n",
    "\n",
    "    def forward(self, z, labels):\n",
    "        x = torch.cat([z, labels], dim=1)\n",
    "        return self.fc(x).view(-1, 1, 28, 28)\n",
    "\n",
    "class Discriminator(nn.Module):\n",
    "    def __init__(self):\n",
    "        super().__init__()\n",
    "        self.fc = nn.Sequential(\n",
    "            nn.Linear(784 + 10, 128),\n",
    "            nn.LeakyReLU(0.2),\n",
    "            nn.Linear(128, 1),\n",
    "            nn.Sigmoid()\n",
    "        )\n",
    "\n",
    "    def forward(self, img, labels):\n",
    "        x = torch.cat([img.view(img.size(0), -1), labels], dim=1)\n",
    "        return self.fc(x)\n"
   ]
  },
  {
   "cell_type": "markdown",
   "id": "2f3b2b48-45f4-4973-a176-efcddc7d5cf7",
   "metadata": {},
   "source": [
    "# Setup"
   ]
  },
  {
   "cell_type": "code",
   "execution_count": 7,
   "id": "205c8a3e-7138-42fe-94eb-44f7a827db6e",
   "metadata": {},
   "outputs": [],
   "source": [
    "\n",
    "device = torch.device(\"cuda\" if torch.cuda.is_available() else \"cpu\")\n",
    "G = Generator().to(device)\n",
    "D = Discriminator().to(device)\n",
    "\n",
    "criterion = nn.BCELoss()\n",
    "g_opt = torch.optim.Adam(G.parameters(), lr=0.0002)\n",
    "d_opt = torch.optim.Adam(D.parameters(), lr=0.0002)\n",
    "\n",
    "def one_hot(labels, num_classes=10):\n",
    "    return torch.nn.functional.one_hot(labels, num_classes).float()\n"
   ]
  },
  {
   "cell_type": "markdown",
   "id": "7bea225a-72cc-4772-80a4-63bc71fc807f",
   "metadata": {},
   "source": [
    "# Training Loop"
   ]
  },
  {
   "cell_type": "code",
   "execution_count": 8,
   "id": "ea5ecd56-af12-4c5e-8a78-fe5d0809a003",
   "metadata": {},
   "outputs": [
    {
     "name": "stdout",
     "output_type": "stream",
     "text": [
      "Epoch 1/20 | D Loss: 0.3240 | G Loss: 1.6435\n",
      "Epoch 2/20 | D Loss: 0.5577 | G Loss: 1.3676\n",
      "Epoch 3/20 | D Loss: 0.9451 | G Loss: 1.0842\n",
      "Epoch 4/20 | D Loss: 1.2069 | G Loss: 0.9357\n",
      "Epoch 5/20 | D Loss: 0.6683 | G Loss: 1.5308\n",
      "Epoch 6/20 | D Loss: 0.7360 | G Loss: 1.3629\n",
      "Epoch 7/20 | D Loss: 1.6264 | G Loss: 0.6346\n",
      "Epoch 8/20 | D Loss: 1.1611 | G Loss: 0.8632\n",
      "Epoch 9/20 | D Loss: 1.2017 | G Loss: 0.9393\n",
      "Epoch 10/20 | D Loss: 0.9213 | G Loss: 1.2468\n",
      "Epoch 11/20 | D Loss: 1.3102 | G Loss: 0.8191\n",
      "Epoch 12/20 | D Loss: 0.9992 | G Loss: 1.0873\n",
      "Epoch 13/20 | D Loss: 1.3433 | G Loss: 0.8450\n",
      "Epoch 14/20 | D Loss: 1.1037 | G Loss: 1.1446\n",
      "Epoch 15/20 | D Loss: 0.8263 | G Loss: 1.3187\n",
      "Epoch 16/20 | D Loss: 0.9621 | G Loss: 1.0154\n",
      "Epoch 17/20 | D Loss: 1.1934 | G Loss: 0.8922\n",
      "Epoch 18/20 | D Loss: 1.2365 | G Loss: 0.8237\n",
      "Epoch 19/20 | D Loss: 0.9887 | G Loss: 1.1300\n",
      "Epoch 20/20 | D Loss: 1.1443 | G Loss: 1.4128\n"
     ]
    }
   ],
   "source": [
    "\n",
    "epochs = 20\n",
    "\n",
    "for epoch in range(epochs):\n",
    "    for real_imgs, labels in train_loader:\n",
    "        batch_size = real_imgs.size(0)\n",
    "        real_imgs = real_imgs.to(device)\n",
    "        labels_oh = one_hot(labels).to(device)\n",
    "\n",
    "        # Train Discriminator\n",
    "        z = torch.randn(batch_size, 20).to(device)\n",
    "        fake_imgs = G(z, labels_oh)\n",
    "\n",
    "        real_targets = torch.ones(batch_size, 1).to(device)\n",
    "        fake_targets = torch.zeros(batch_size, 1).to(device)\n",
    "\n",
    "        d_real = D(real_imgs, labels_oh)\n",
    "        d_fake = D(fake_imgs.detach(), labels_oh)\n",
    "\n",
    "        d_loss = criterion(d_real, real_targets) + criterion(d_fake, fake_targets)\n",
    "        D.zero_grad()\n",
    "        d_loss.backward()\n",
    "        d_opt.step()\n",
    "\n",
    "        # Train Generator\n",
    "        z = torch.randn(batch_size, 20).to(device)\n",
    "        fake_imgs = G(z, labels_oh)\n",
    "        d_fake = D(fake_imgs, labels_oh)\n",
    "        g_loss = criterion(d_fake, real_targets)\n",
    "\n",
    "        G.zero_grad()\n",
    "        g_loss.backward()\n",
    "        g_opt.step()\n",
    "\n",
    "    print(f\"Epoch {epoch+1}/{epochs} | D Loss: {d_loss.item():.4f} | G Loss: {g_loss.item():.4f}\")\n"
   ]
  },
  {
   "cell_type": "code",
   "execution_count": 9,
   "id": "230a04a2-e0ae-4142-8055-108fd7892ad5",
   "metadata": {},
   "outputs": [
    {
     "name": "stdout",
     "output_type": "stream",
     "text": [
      "Model saved as digit_generator.pth\n"
     ]
    }
   ],
   "source": [
    "# Save Generator Model\n",
    "torch.save(G.state_dict(), \"digit_generator.pth\")\n",
    "print(\"Model saved as digit_generator.pth\")\n"
   ]
  },
  {
   "cell_type": "code",
   "execution_count": null,
   "id": "07914b56-3253-46d4-9329-023e95d661ac",
   "metadata": {},
   "outputs": [],
   "source": []
  }
 ],
 "metadata": {
  "kernelspec": {
   "display_name": "Python 3 (ipykernel)",
   "language": "python",
   "name": "python3"
  },
  "language_info": {
   "codemirror_mode": {
    "name": "ipython",
    "version": 3
   },
   "file_extension": ".py",
   "mimetype": "text/x-python",
   "name": "python",
   "nbconvert_exporter": "python",
   "pygments_lexer": "ipython3",
   "version": "3.12.7"
  }
 },
 "nbformat": 4,
 "nbformat_minor": 5
}
